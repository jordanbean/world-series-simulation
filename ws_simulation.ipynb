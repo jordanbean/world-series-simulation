{
 "cells": [
  {
   "cell_type": "markdown",
   "metadata": {},
   "source": [
    "# Objective:\n",
    "\n",
    "The goal of this project is to determine the performance of a playoff team against their opponent and teams similar to their opponent, then use that performance data to simulate the winner of a game and series. Using this data that was tested on the 2018 playoffs, we will \"simulate\" the World Series to see who the more probable winner is according to the model. All data was scraped from baseball-reference.com."
   ]
  },
  {
   "cell_type": "code",
   "execution_count": 1,
   "metadata": {},
   "outputs": [],
   "source": [
    "## Import libraries\n",
    "\n",
    "import pandas as pd\n",
    "import numpy as np\n",
    "import matplotlib.pyplot as plt\n",
    "import seaborn as sns; sns.set()\n",
    "import random\n",
    "random.seed(145)\n",
    "from sklearn.neighbors import NearestNeighbors\n",
    "from sklearn.preprocessing import MinMaxScaler"
   ]
  },
  {
   "cell_type": "code",
   "execution_count": 2,
   "metadata": {},
   "outputs": [],
   "source": [
    "## Read in team statistics\n",
    "\n",
    "df_pitching = pd.read_csv(r'C:\\Users\\jbean\\Dropbox\\Other\\Python\\WS_simulation\\pitching_stats.csv')\n",
    "df_batting = pd.read_csv(r'C:\\Users\\jbean\\Dropbox\\Other\\Python\\WS_simulation\\batting_stats.csv')"
   ]
  },
  {
   "cell_type": "markdown",
   "metadata": {},
   "source": [
    "# Define functions"
   ]
  },
  {
   "cell_type": "code",
   "execution_count": 3,
   "metadata": {},
   "outputs": [],
   "source": [
    "def read_in_data(lower_team_abb):\n",
    "    \n",
    "    \"\"\"\n",
    "    Takes in the team abbreviation and reads in the data set.\n",
    "    \"\"\"\n",
    "    \n",
    "    df = pd.read_csv(r'C:\\Users\\jbean\\Dropbox\\Other\\Python\\WS_simulation\\%s_data.csv' %lower_team_abb)\n",
    "    \n",
    "    return df"
   ]
  },
  {
   "cell_type": "code",
   "execution_count": 4,
   "metadata": {},
   "outputs": [],
   "source": [
    "def standardize_dfs(year, df_pitching = df_pitching, df_batting = df_batting):\n",
    "    \n",
    "    \"\"\"\n",
    "    Filters the data sets for only the desired year, then standardizes performance so that all units are on the same\n",
    "    scale using MinMaxScaler. \n",
    "    \"\"\"\n",
    "    \n",
    "    df_pitching = df_pitching[df_pitching.year == year]\n",
    "    df_batting = df_batting[df_batting.year == year]\n",
    "    \n",
    "    df_pitching_numeric = df_pitching.drop(['team','year'], axis=1)\n",
    "    df_batting_numeric = df_batting.drop(['team','year', 'games'], axis=1)\n",
    "    \n",
    "    teams = list(df_batting[df_batting.year == year]['team'])\n",
    "\n",
    "    def standardize_cols(df):\n",
    "    \n",
    "        scaler = MinMaxScaler()\n",
    "    \n",
    "        df = df.astype(float)\n",
    "    \n",
    "        scaled_df = scaler.fit_transform(df)\n",
    "        scaled_df = pd.DataFrame(scaled_df, columns = df.columns, index=teams)\n",
    "        \n",
    "        return scaled_df\n",
    "\n",
    "    df_pitching_s = standardize_cols(df_pitching_numeric)\n",
    "    df_batting_s = standardize_cols(df_batting_numeric)\n",
    "    \n",
    "    return df_pitching_s, df_batting_s"
   ]
  },
  {
   "cell_type": "code",
   "execution_count": 5,
   "metadata": {},
   "outputs": [],
   "source": [
    "def neighbors_df(opp_league, df, similar_team_abb, opponent_abb, num_similar = 6, n_neighbors=30):\n",
    "    \n",
    "    \"\"\"\n",
    "    Use NearestNeighbors from sklearn to determine the closest teams in performance between an opponent and other\n",
    "    teams in their league. The function starts by identifying the teams in the opponent's league, followed by \n",
    "    fitting a NearestNeighbors model to the full data set. Then, the index and distances are extracted\n",
    "    from the model, the data is filtered for the team's league, and the opponent plus the 5 teams that\n",
    "    are \"closest\" to them in their league are returned.\n",
    "    \"\"\"\n",
    "    \n",
    "    league = {'American':['BAL','BOS','CHW','CLE','DET','HOU','KCR','LAA','MIN','NYY','OAK','SEA','TBR','TEX','TOR'],\n",
    "             'National':['ARI','ATL','CHC','CIN','COL','LAD','MIA','MIL','NYM','PHI','PIT','SDP','SFG','STL','WSN']}\n",
    "    \n",
    "    league_teams = [v for k, v in league.items() if opp_league == k]\n",
    "    league_teams = [item for sublist in league_teams for item in sublist]\n",
    "    \n",
    "    neighbors = NearestNeighbors(n_neighbors = n_neighbors)\n",
    "    \n",
    "    neighbors.fit(df)\n",
    "    \n",
    "    distance, idx = neighbors.kneighbors(df[df.index == similar_team_abb], n_neighbors=n_neighbors)\n",
    "\n",
    "    diff_df = pd.DataFrame()\n",
    "\n",
    "    diff_df['idx'] = [idx.item(i) for i in range(idx.shape[1])]\n",
    "    diff_df['distance'] = [distance.item(i) for i in range(distance.shape[1])]\n",
    "\n",
    "    diff_df = diff_df.sort_values(by='idx')\n",
    "\n",
    "    df_neighbor = df.copy()\n",
    "    df_neighbor['distances'] = diff_df['distance'].values\n",
    "\n",
    "    leagues = []\n",
    "\n",
    "    for i in df_neighbor.index:\n",
    "    \n",
    "        for k, v in league.items():\n",
    "        \n",
    "            if i in v:\n",
    "            \n",
    "                leagues.append(k)\n",
    "\n",
    "    df_neighbor['league'] = leagues\n",
    "\n",
    "    df_neighbor = df_neighbor[(df_neighbor.league == opp_league) & (df_neighbor.index != opponent_abb)]\n",
    "    \n",
    "    df_neighbor = df_neighbor.sort_values(by='distances')\n",
    "\n",
    "    df_neighbor = df_neighbor.iloc[:num_similar,:]\n",
    "    \n",
    "    return df_neighbor"
   ]
  },
  {
   "cell_type": "code",
   "execution_count": 6,
   "metadata": {},
   "outputs": [],
   "source": [
    "def series_simulation_batting(runs_for_team1, runs_for_team2, series_length = 5, num_games_to_win = 3, num_simulations=20000):\n",
    "    \n",
    "    \"\"\"\n",
    "    Using the performance of a team against their opponent and most similar teams, we estimate the outcome of \n",
    "    how a team will perform with batting by randomly picking a score from each team's batting performance, \n",
    "    then choosing the team with the higher score as the winner. We continue to run game simulations until\n",
    "    the team hits the number of games needed to win the series, then repeat the process for as many simulations\n",
    "    as we desire.\n",
    "    \"\"\"\n",
    "    \n",
    "    winner = []\n",
    "    total_games = []\n",
    "    \n",
    "    for i in range(num_simulations):\n",
    "        \n",
    "        team1_wins = 0\n",
    "        team2_wins = 0\n",
    "    \n",
    "        for i in range(series_length):\n",
    "            \n",
    "            team1_score = np.random.choice(runs_for_team1)\n",
    "            team2_score = np.random.choice(runs_for_team2)\n",
    "    \n",
    "            while team1_score == team2_score:\n",
    "        \n",
    "                team1_score = np.random.choice(runs_for_team1)\n",
    "                team2_score = np.random.choice(runs_for_team2)\n",
    "                \n",
    "            if team1_score > team2_score:\n",
    "                \n",
    "                team1_wins += 1\n",
    "            \n",
    "            elif team2_score > team1_score:\n",
    "                \n",
    "                team2_wins += 1\n",
    "\n",
    "            if (team1_wins == num_games_to_win) | (team2_wins == num_games_to_win):\n",
    "                \n",
    "                winner.append([1 if team1_wins == num_games_to_win else 0])\n",
    "                total_games.append(team1_wins + team2_wins)\n",
    "                \n",
    "                break\n",
    "                \n",
    "    winner = [item for sublist in winner for item in sublist]\n",
    "        \n",
    "    return winner, total_games"
   ]
  },
  {
   "cell_type": "code",
   "execution_count": 7,
   "metadata": {},
   "outputs": [],
   "source": [
    "def series_simulation_pitching(runs_against_team1, runs_against_team2, series_length = 5, num_games_to_win = 3, \n",
    "                               num_simulations=20000):\n",
    "    \n",
    "    \"\"\"\n",
    "    Using the performance of a team against their opponent and most similar teams, we estimate the outcome of \n",
    "    how a team will perform with pitching by randomly picking a score from each team's pitching performance, \n",
    "    then choosing the team with the lower score as the winner (i.e. less runs given up). We continue to run game \n",
    "    simulations until the team hits the number of games needed to win the series, then repeat the process for as \n",
    "    many simulations as we desire.\n",
    "    \"\"\"\n",
    "    \n",
    "    winner = []\n",
    "    total_games = []\n",
    "    \n",
    "    for i in range(num_simulations):\n",
    "        \n",
    "        team1_wins = 0\n",
    "        team2_wins = 0\n",
    "    \n",
    "        for i in range(series_length):\n",
    "            \n",
    "            team1_runs_allowed = np.random.choice(runs_against_team1)\n",
    "            team2_runs_allowed = np.random.choice(runs_against_team2)\n",
    "            \n",
    "            while team1_runs_allowed == team2_runs_allowed:\n",
    "        \n",
    "                team1_runs_allowed = np.random.choice(runs_against_team1)\n",
    "                team2_runs_allowed = np.random.choice(runs_against_team2)\n",
    "                \n",
    "            if team1_runs_allowed < team2_runs_allowed:\n",
    "                \n",
    "                team1_wins += 1\n",
    "            \n",
    "            elif team2_runs_allowed < team1_runs_allowed:\n",
    "                \n",
    "                team2_wins += 1\n",
    "                \n",
    "            else:\n",
    "                continue\n",
    "            \n",
    "            if (team1_wins == num_games_to_win) | (team2_wins == num_games_to_win):\n",
    "                \n",
    "                winner.append([1 if team1_wins == num_games_to_win else 0])\n",
    "                total_games.append(team1_wins + team2_wins)\n",
    "                \n",
    "                break\n",
    "                \n",
    "    winner = [item for sublist in winner for item in sublist]\n",
    "        \n",
    "    return winner, total_games"
   ]
  },
  {
   "cell_type": "code",
   "execution_count": 9,
   "metadata": {},
   "outputs": [],
   "source": [
    "def win_probability(pitching_simulation_data, batting_simulation_data):\n",
    "    \n",
    "    \"\"\"\n",
    "    Using the simulated data, we determine the total number of wins for a team by adding across the columns\n",
    "    so that for each simulation the result will be 0, 1, or 2. The total possible number of wins is the length\n",
    "    of the data frame times 2, so we divide by that number and return the probability.\n",
    "    \"\"\"\n",
    "    \n",
    "    winner_df = pd.DataFrame({'pitching_winner':pitching_simulation_data, 'batting_winner':batting_simulation_data})\n",
    "    \n",
    "    winner_df['combined'] = winner_df['pitching_winner'] + winner_df['batting_winner']\n",
    "    \n",
    "    total_pred = winner_df.combined.sum() / (len(winner_df) * 2)\n",
    "    \n",
    "    return total_pred"
   ]
  },
  {
   "cell_type": "code",
   "execution_count": 8,
   "metadata": {},
   "outputs": [],
   "source": [
    "df_pitching_s, df_batting_s = standardize_dfs(2018)"
   ]
  },
  {
   "cell_type": "markdown",
   "metadata": {},
   "source": [
    "# Play in Game: Yankees vs. Oakland"
   ]
  },
  {
   "cell_type": "code",
   "execution_count": 10,
   "metadata": {},
   "outputs": [],
   "source": [
    "df_nyy = read_in_data('nyy')\n",
    "df_oak = read_in_data('oak')\n",
    "\n",
    "nyy_pitching_neighbors = neighbors_df('American', df_pitching_s, 'NYY', 'OAK')\n",
    "oak_pitching_neighbors = neighbors_df('American', df_pitching_s, 'OAK', 'NYY')\n",
    "\n",
    "nyy_batting_neighbors = neighbors_df('American', df_batting_s, 'NYY', 'OAK')\n",
    "oak_batting_neighbors = neighbors_df('American', df_batting_s, 'OAK', 'NYY')\n",
    "\n",
    "nyy_batting_performance = df_nyy[df_nyy.opponent.isin(oak_pitching_neighbors.index)]\n",
    "oak_batting_performance = df_oak[df_oak.opponent.isin(nyy_pitching_neighbors.index)]\n",
    "\n",
    "nyy_pitching_performance = df_nyy[df_nyy.opponent.isin(oak_batting_neighbors.index)]\n",
    "oak_pitching_performance = df_oak[df_oak.opponent.isin(nyy_batting_neighbors.index)]\n",
    "\n",
    "nyy_oak_winner_b, nyy_oak_totalgames_b = series_simulation_batting(nyy_batting_performance['runs_for'], \n",
    "                                                                   oak_batting_performance['runs_for'],\n",
    "                                                                  series_length=1, num_games_to_win = 1)\n",
    "\n",
    "nyy_oak_winner_p, nyy_oak_totalgames_p = series_simulation_pitching(nyy_pitching_performance['runs_against'], \n",
    "                                                                   oak_pitching_performance['runs_against'],\n",
    "                                                                    series_length= 1, num_games_to_win = 1)\n",
    "\n",
    "nyy_win_prob_playin = win_probability(nyy_oak_winner_b, nyy_oak_winner_p)\n",
    "oak_win_prob_playin = 1-nyy_win_prob_playin"
   ]
  },
  {
   "cell_type": "code",
   "execution_count": 11,
   "metadata": {},
   "outputs": [
    {
     "name": "stdout",
     "output_type": "stream",
     "text": [
      "Yankees's win probability: 58%\n",
      "Oakland's win probability: 42%\n"
     ]
    }
   ],
   "source": [
    "print(\"Yankees's win probability: {:.0f}%\".format(nyy_win_prob_playin * 100))\n",
    "print(\"Oakland's win probability: {:.0f}%\".format(oak_win_prob_playin * 100))"
   ]
  },
  {
   "cell_type": "markdown",
   "metadata": {},
   "source": [
    "# Play in Game: Rockies vs. Cubs"
   ]
  },
  {
   "cell_type": "code",
   "execution_count": 12,
   "metadata": {},
   "outputs": [],
   "source": [
    "df_col = read_in_data('col')\n",
    "df_chc = read_in_data('chc')\n",
    "\n",
    "col_pitching_neighbors = neighbors_df('National', df_pitching_s, 'COL', 'CHC')\n",
    "chc_pitching_neighbors = neighbors_df('National', df_pitching_s, 'CHC', 'COL')\n",
    "\n",
    "col_batting_neighbors = neighbors_df('National', df_batting_s, 'CHC', 'LAD')\n",
    "chc_batting_neighbors = neighbors_df('National', df_batting_s, 'LAD', 'CHC')\n",
    "\n",
    "col_batting_performance = df_col[df_col.opponent.isin(chc_pitching_neighbors.index)]\n",
    "chc_batting_performance = df_chc[df_chc.opponent.isin(col_pitching_neighbors.index)]\n",
    "\n",
    "col_pitching_performance = df_col[df_col.opponent.isin(chc_batting_neighbors.index)]\n",
    "chc_pitching_performance = df_chc[df_chc.opponent.isin(col_batting_neighbors.index)]\n",
    "\n",
    "col_chc_winner_b, col_chc_totalgames_b = series_simulation_batting(col_batting_performance['runs_for'], \n",
    "                                                                   chc_batting_performance['runs_for'])\n",
    "\n",
    "col_chc_winner_p, col_chc_totalgames_p = series_simulation_pitching(col_pitching_performance['runs_against'], \n",
    "                                                                   chc_pitching_performance['runs_against'])\n",
    "\n",
    "col_win_prob_playin = win_probability(col_chc_winner_p, col_chc_winner_b)\n",
    "chc_win_prob_playin = 1-col_win_prob_playin"
   ]
  },
  {
   "cell_type": "code",
   "execution_count": 13,
   "metadata": {},
   "outputs": [
    {
     "name": "stdout",
     "output_type": "stream",
     "text": [
      "Rockie's win probability: 53%\n",
      "Cubs's win probability: 47%\n"
     ]
    }
   ],
   "source": [
    "print(\"Rockie's win probability: {:.0f}%\".format(col_win_prob_playin * 100))\n",
    "print(\"Cubs's win probability: {:.0f}%\".format(chc_win_prob_playin * 100))"
   ]
  },
  {
   "cell_type": "markdown",
   "metadata": {},
   "source": [
    "# ALCS: Red Sox vs. Yankees"
   ]
  },
  {
   "cell_type": "code",
   "execution_count": 14,
   "metadata": {},
   "outputs": [],
   "source": [
    "df_bos = read_in_data('bos')\n",
    "\n",
    "bos_pitching_neighbors = neighbors_df('American', df_pitching_s, 'BOS', 'NYY')\n",
    "nyy_pitching_neighbors = neighbors_df('American', df_pitching_s, 'NYY', 'BOS')\n",
    "\n",
    "bos_batting_neighbors = neighbors_df('American', df_batting_s, 'BOS', 'NYY')\n",
    "nyy_batting_neighbors = neighbors_df('American', df_batting_s, 'NYY', 'BOS')\n",
    "\n",
    "nyy_batting_performance = df_nyy[df_nyy.opponent.isin(bos_pitching_neighbors.index)]\n",
    "bos_batting_performance = df_bos[df_bos.opponent.isin(nyy_pitching_neighbors.index)]\n",
    "\n",
    "bos_pitching_performance = df_bos[df_bos.opponent.isin(nyy_batting_neighbors.index)]\n",
    "nyy_pitching_performance = df_nyy[df_nyy.opponent.isin(bos_batting_neighbors.index)]\n",
    "\n",
    "nyy_bos_winner_b, nyy_bos_totalgames_b = series_simulation_batting(nyy_batting_performance['runs_for'], \n",
    "                                                                   bos_batting_performance['runs_for'])\n",
    "\n",
    "nyy_bos_winner_p, nyy_bos_totalgames_p = series_simulation_pitching(nyy_pitching_performance['runs_against'], \n",
    "                                                                   bos_pitching_performance['runs_against'])\n",
    "nyy_win_prob = win_probability(nyy_bos_winner_p, nyy_bos_winner_b)\n",
    "bos_win_prob = 1-nyy_win_prob"
   ]
  },
  {
   "cell_type": "code",
   "execution_count": 17,
   "metadata": {},
   "outputs": [
    {
     "name": "stdout",
     "output_type": "stream",
     "text": [
      "Yankees's win probability: 52%\n",
      "Red Sox's win probability: 48%\n"
     ]
    }
   ],
   "source": [
    "print(\"Yankees's win probability: {:.0f}%\".format(nyy_win_prob * 100))\n",
    "print(\"Red Sox's win probability: {:.0f}%\".format(bos_win_prob * 100))"
   ]
  },
  {
   "cell_type": "markdown",
   "metadata": {},
   "source": [
    "# ALDS: Cleveland vs. Houston simulation"
   ]
  },
  {
   "cell_type": "code",
   "execution_count": 21,
   "metadata": {},
   "outputs": [],
   "source": [
    "df_cle = read_in_data('cle')\n",
    "df_hou = read_in_data('hou')\n",
    "\n",
    "cle_pitching_neighbors = neighbors_df('American', df_pitching_s, 'CLE', 'HOU')\n",
    "hou_pitching_neighbors = neighbors_df('American', df_pitching_s, 'HOU', 'CLE')\n",
    "\n",
    "cle_batting_neighbors = neighbors_df('American', df_batting_s, 'CLE', 'HOU')\n",
    "hou_batting_neighbors = neighbors_df('American', df_batting_s, 'HOU', 'CLE')\n",
    "\n",
    "cle_batting_performance = df_cle[df_cle.opponent.isin(hou_pitching_neighbors.index)]\n",
    "hou_batting_performance = df_hou[df_hou.opponent.isin(cle_pitching_neighbors.index)]\n",
    "\n",
    "cle_pitching_performance = df_cle[df_cle.opponent.isin(hou_batting_neighbors.index)]\n",
    "hou_pitching_performance = df_hou[df_hou.opponent.isin(cle_batting_neighbors.index)]\n",
    "\n",
    "cle_hou_winner_b, cle_hou_totalgames_b = series_simulation_batting(cle_batting_performance['runs_for'], \n",
    "                                                                   hou_batting_performance['runs_for'])\n",
    "\n",
    "cle_hou_winner_p, cle_hou_totalgames_p = series_simulation_pitching(cle_pitching_performance['runs_against'], \n",
    "                                                                   hou_pitching_performance['runs_against'])\n",
    "\n",
    "cle_win_prob = win_probability(cle_hou_winner_p, cle_hou_winner_b)\n",
    "hou_win_prob = 1-cle_win_prob"
   ]
  },
  {
   "cell_type": "code",
   "execution_count": 22,
   "metadata": {},
   "outputs": [
    {
     "name": "stdout",
     "output_type": "stream",
     "text": [
      "Cleveland's win probability: 33%\n",
      "Houston's win probability: 67%\n"
     ]
    }
   ],
   "source": [
    "print(\"Cleveland's win probability: {:.0f}%\".format(cle_win_prob * 100))\n",
    "print(\"Houston's win probability: {:.0f}%\".format(hou_win_prob * 100))"
   ]
  },
  {
   "cell_type": "markdown",
   "metadata": {},
   "source": [
    "# NLDS: Los Angeles Dodgers vs. Atlanta Braves"
   ]
  },
  {
   "cell_type": "code",
   "execution_count": 23,
   "metadata": {},
   "outputs": [],
   "source": [
    "df_atl = read_in_data('atl')\n",
    "df_lad = read_in_data('lad')\n",
    "\n",
    "atl_pitching_neighbors = neighbors_df('National', df_pitching_s, 'ATL', 'LAD')\n",
    "lad_pitching_neighbors = neighbors_df('National', df_pitching_s, 'LAD', 'ATL')\n",
    "\n",
    "atl_batting_neighbors = neighbors_df('National', df_batting_s, 'ATL', 'LAD')\n",
    "lad_batting_neighbors = neighbors_df('National', df_batting_s, 'LAD', 'ATL')\n",
    "\n",
    "atl_batting_performance = df_atl[df_atl.opponent.isin(lad_pitching_neighbors.index)]\n",
    "lad_batting_performance = df_lad[df_lad.opponent.isin(atl_pitching_neighbors.index)]\n",
    "\n",
    "atl_pitching_performance = df_atl[df_atl.opponent.isin(lad_batting_neighbors.index)]\n",
    "lad_pitching_performance = df_lad[df_lad.opponent.isin(atl_batting_neighbors.index)]\n",
    "\n",
    "lad_atl_winner_b, lad_atl_totalgames_b = series_simulation_batting(lad_batting_performance['runs_for'], \n",
    "                                                                   atl_batting_performance['runs_for'])\n",
    "\n",
    "lad_atl_winner_p, lad_atl_totalgames_p = series_simulation_pitching(lad_pitching_performance['runs_against'], \n",
    "                                                                   atl_pitching_performance['runs_against'])\n",
    "\n",
    "lad_win_prob = win_probability(lad_atl_winner_p, lad_atl_winner_b)\n",
    "atl_win_prob = 1-lad_win_prob"
   ]
  },
  {
   "cell_type": "code",
   "execution_count": 24,
   "metadata": {},
   "outputs": [
    {
     "name": "stdout",
     "output_type": "stream",
     "text": [
      "Dodger's win probability: 60%\n",
      "Atlanta's win probability: 40%\n"
     ]
    }
   ],
   "source": [
    "print(\"Dodger's win probability: {:.0f}%\".format(lad_win_prob * 100))\n",
    "print(\"Atlanta's win probability: {:.0f}%\".format(atl_win_prob * 100))"
   ]
  },
  {
   "cell_type": "markdown",
   "metadata": {},
   "source": [
    "# NLDS: Colorado vs. Milwaukee"
   ]
  },
  {
   "cell_type": "code",
   "execution_count": 25,
   "metadata": {},
   "outputs": [],
   "source": [
    "df_mil = read_in_data('mil')\n",
    "\n",
    "col_pitching_neighbors = neighbors_df('National', df_pitching_s, 'COL', 'MIL')\n",
    "mil_pitching_neighbors = neighbors_df('National', df_pitching_s, 'MIL', 'COL')\n",
    "\n",
    "col_batting_neighbors = neighbors_df('National', df_batting_s, 'COL', 'MIL')\n",
    "mil_batting_neighbors = neighbors_df('National', df_batting_s, 'MIL', 'COL')\n",
    "\n",
    "col_batting_performance = df_col[df_col.opponent.isin(mil_pitching_neighbors.index)]\n",
    "mil_batting_performance = df_mil[df_mil.opponent.isin(col_pitching_neighbors.index)]\n",
    "\n",
    "col_pitching_performance = df_col[df_col.opponent.isin(mil_batting_neighbors.index)]\n",
    "mil_pitching_performance = df_mil[df_mil.opponent.isin(col_batting_neighbors.index)]\n",
    "\n",
    "col_mil_winner_b, col_mil_totalgames_b = series_simulation_batting(col_batting_performance['runs_for'], \n",
    "                                                                   mil_batting_performance['runs_for'])\n",
    "\n",
    "col_mil_winner_p, col_mil_totalgames_p = series_simulation_pitching(col_pitching_performance['runs_against'], \n",
    "                                                                   mil_pitching_performance['runs_against'])\n",
    "\n",
    "col_win_prob = win_probability(col_mil_winner_p, col_mil_winner_b)\n",
    "mil_win_prob = 1-col_win_prob"
   ]
  },
  {
   "cell_type": "code",
   "execution_count": 26,
   "metadata": {},
   "outputs": [
    {
     "name": "stdout",
     "output_type": "stream",
     "text": [
      "Colorado's win probability: 37%\n",
      "Milwaukee's win probability: 63%\n"
     ]
    }
   ],
   "source": [
    "print(\"Colorado's win probability: {:.0f}%\".format(col_win_prob * 100))\n",
    "print(\"Milwaukee's win probability: {:.0f}%\".format(mil_win_prob * 100))"
   ]
  },
  {
   "cell_type": "markdown",
   "metadata": {},
   "source": [
    "# ALCS: Red Sox vs. Houston"
   ]
  },
  {
   "cell_type": "code",
   "execution_count": 30,
   "metadata": {},
   "outputs": [],
   "source": [
    "bos_pitching_neighbors = neighbors_df('American', df_pitching_s, 'BOS', 'HOU')\n",
    "hou_pitching_neighbors = neighbors_df('American', df_pitching_s, 'HOU', 'BOS')\n",
    "\n",
    "bos_batting_neighbors = neighbors_df('American', df_batting_s, 'BOS', 'HOU')\n",
    "hou_batting_neighbors = neighbors_df('American', df_batting_s, 'HOU', 'BOS')\n",
    "\n",
    "bos_batting_performance = df_bos[df_bos.opponent.isin(hou_pitching_neighbors.index)]\n",
    "hou_batting_performance = df_hou[df_hou.opponent.isin(bos_pitching_neighbors.index)]\n",
    "\n",
    "bos_pitching_performance = df_bos[df_bos.opponent.isin(hou_batting_neighbors.index)]\n",
    "hou_pitching_performance = df_hou[df_hou.opponent.isin(bos_batting_neighbors.index)]\n",
    "\n",
    "bos_hou_winner_b, bos_hou_totalgames_b = series_simulation_batting(bos_batting_performance['runs_for'], \n",
    "                                                                   hou_batting_performance['runs_for'], \n",
    "                                                                   series_length = 7, num_games_to_win = 4)\n",
    "\n",
    "bos_hou_winner_p, bos_hou_totalgames_p = series_simulation_pitching(bos_pitching_performance['runs_against'], \n",
    "                                                                   hou_pitching_performance['runs_against'],\n",
    "                                                                   series_length = 7, num_games_to_win = 4)\n",
    "\n",
    "bos_win_prob_alcs = win_probability(bos_hou_winner_p, bos_hou_winner_b)\n",
    "hou_win_prob_alcs = 1-bos_win_prob_alcs"
   ]
  },
  {
   "cell_type": "code",
   "execution_count": 31,
   "metadata": {},
   "outputs": [
    {
     "name": "stdout",
     "output_type": "stream",
     "text": [
      "Boston's win probability: 45%\n",
      "Houston's win probability: 55%\n"
     ]
    }
   ],
   "source": [
    "print(\"Boston's win probability: {:.0f}%\".format(bos_win_prob_alcs * 100))\n",
    "print(\"Houston's win probability: {:.0f}%\".format(hou_win_prob_alcs * 100))"
   ]
  },
  {
   "cell_type": "markdown",
   "metadata": {},
   "source": [
    "# NLCS: Brewers vs. Dodgers"
   ]
  },
  {
   "cell_type": "code",
   "execution_count": 32,
   "metadata": {},
   "outputs": [],
   "source": [
    "mil_pitching_neighbors = neighbors_df('National', df_pitching_s, 'MIL', 'LAD')\n",
    "lad_pitching_neighbors = neighbors_df('National', df_pitching_s, 'LAD', 'MIL')\n",
    "\n",
    "mil_batting_neighbors = neighbors_df('National', df_batting_s, 'MIL', 'LAD')\n",
    "lad_batting_neighbors = neighbors_df('National', df_batting_s, 'LAD', 'MIL')\n",
    "\n",
    "mil_batting_performance = df_mil[df_mil.opponent.isin(lad_pitching_neighbors.index)]\n",
    "lad_batting_performance = df_lad[df_lad.opponent.isin(mil_pitching_neighbors.index)]\n",
    "\n",
    "mil_pitching_performance = df_mil[df_mil.opponent.isin(lad_batting_neighbors.index)]\n",
    "lad_pitching_performance = df_lad[df_lad.opponent.isin(mil_batting_neighbors.index)]\n",
    "\n",
    "lad_mil_winner_b, lad_mil_totalgames_b = series_simulation_batting(lad_batting_performance['runs_for'], \n",
    "                                                                   atl_batting_performance['runs_for'],\n",
    "                                                                  series_length=7, num_games_to_win = 4)\n",
    "\n",
    "lad_mil_winner_p, lad_mil_totalgames_p = series_simulation_pitching(lad_pitching_performance['runs_against'], \n",
    "                                                                   atl_pitching_performance['runs_against'],\n",
    "                                                                    series_length=7, num_games_to_win = 4)\n",
    "\n",
    "lad_win_prob_nlcs = win_probability(lad_mil_winner_p, lad_mil_winner_b)\n",
    "mil_win_prob_nlcs = 1-lad_win_prob_nlcs"
   ]
  },
  {
   "cell_type": "code",
   "execution_count": 33,
   "metadata": {
    "scrolled": true
   },
   "outputs": [
    {
     "name": "stdout",
     "output_type": "stream",
     "text": [
      "Dodger's win probability: 69%\n",
      "Milwaukee's win probability: 31%\n"
     ]
    }
   ],
   "source": [
    "print(\"Dodger's win probability: {:.0f}%\".format(lad_win_prob_nlcs * 100))\n",
    "print(\"Milwaukee's win probability: {:.0f}%\".format(mil_win_prob_nlcs * 100))"
   ]
  },
  {
   "cell_type": "markdown",
   "metadata": {},
   "source": [
    "# World Series: Dodgers vs Red Sox"
   ]
  },
  {
   "cell_type": "code",
   "execution_count": 34,
   "metadata": {},
   "outputs": [],
   "source": [
    "bos_pitching_neighbors = neighbors_df('National', df_pitching_s, 'BOS', 'LAD')\n",
    "lad_pitching_neighbors = neighbors_df('American', df_pitching_s, 'LAD', 'BOS')\n",
    "\n",
    "bos_batting_neighbors = neighbors_df('National', df_batting_s, 'BOS', 'LAD')\n",
    "lad_batting_neighbors = neighbors_df('American', df_batting_s, 'LAD', 'BOS')\n",
    "\n",
    "bos_batting_performance = df_bos[df_bos.opponent.isin(lad_pitching_neighbors.index)]\n",
    "lad_batting_performance = df_lad[df_lad.opponent.isin(bos_pitching_neighbors.index)]\n",
    "\n",
    "bos_pitching_performance = df_bos[df_bos.opponent.isin(lad_batting_neighbors.index)]\n",
    "lad_pitching_performance = df_lad[df_lad.opponent.isin(bos_batting_neighbors.index)]\n",
    "\n",
    "lad_bos_winner_b, lad_bos_totalgames_b = series_simulation_batting(lad_batting_performance['runs_for'], \n",
    "                                                                   bos_batting_performance['runs_for'],\n",
    "                                                                  series_length=7, num_games_to_win = 4)\n",
    "\n",
    "lad_bos_winner_p, lad_bos_totalgames_p = series_simulation_pitching(lad_pitching_performance['runs_against'], \n",
    "                                                                   bos_pitching_performance['runs_against'],\n",
    "                                                                    series_length=7, num_games_to_win = 4)\n",
    "\n",
    "lad_win_prob_ws = win_probability(lad_bos_winner_p, lad_bos_winner_b)\n",
    "bos_win_prob_ws = 1-lad_win_prob_ws"
   ]
  },
  {
   "cell_type": "code",
   "execution_count": 36,
   "metadata": {},
   "outputs": [
    {
     "name": "stdout",
     "output_type": "stream",
     "text": [
      "Dodger's win probability: 67%\n",
      "Boston's win probability: 33%\n"
     ]
    }
   ],
   "source": [
    "print(\"Dodger's win probability: {:.0f}%\".format(lad_win_prob_ws * 100))\n",
    "print(\"Boston's win probability: {:.0f}%\".format(bos_win_prob_ws * 100))"
   ]
  },
  {
   "cell_type": "code",
   "execution_count": 35,
   "metadata": {},
   "outputs": [
    {
     "name": "stdout",
     "output_type": "stream",
     "text": [
      "The average number of games to finish the series is: 5.7 games\n"
     ]
    }
   ],
   "source": [
    "avg_games = np.mean(lad_bos_totalgames_b + lad_bos_totalgames_p)\n",
    "\n",
    "print('The average number of games to finish the series is: %.1f games' %avg_games)"
   ]
  }
 ],
 "metadata": {
  "kernelspec": {
   "display_name": "Python 3",
   "language": "python",
   "name": "python3"
  },
  "language_info": {
   "codemirror_mode": {
    "name": "ipython",
    "version": 3
   },
   "file_extension": ".py",
   "mimetype": "text/x-python",
   "name": "python",
   "nbconvert_exporter": "python",
   "pygments_lexer": "ipython3",
   "version": "3.6.6"
  }
 },
 "nbformat": 4,
 "nbformat_minor": 2
}
